{
 "cells": [
  {
   "cell_type": "markdown",
   "id": "7566e0cd",
   "metadata": {},
   "source": [
    "# Data Science Tools and Ecosystem"
   ]
  },
  {
   "cell_type": "markdown",
   "id": "584497c4",
   "metadata": {},
   "source": [
    "#In this notebook, Data Science Tools and Ecosystem are summarized."
   ]
  },
  {
   "cell_type": "markdown",
   "id": "975abe22",
   "metadata": {},
   "source": [
    "#Some of the popular languages that Data Scientists use are:\n",
    "1. Python\n",
    "2. R\n",
    "3. SQL"
   ]
  },
  {
   "cell_type": "markdown",
   "id": "fabf45c0",
   "metadata": {},
   "source": [
    "#Some of the commonly used libraries used by Data Scientists include:\n",
    "1. scikit-learn\n",
    "2. TensorFlow\n",
    "3. PyTorch"
   ]
  },
  {
   "cell_type": "markdown",
   "id": "d120f492",
   "metadata": {},
   "source": [
    "***Objectives:***\n",
    "    - list tools used in data science\n",
    "    - popular language used in data science\n",
    "    - Introduction to python\n",
    "    - Introduction to R\n",
    "    - Introduction to GitHub"
   ]
  },
  {
   "cell_type": "markdown",
   "id": "c21d885f",
   "metadata": {},
   "source": [
    "|Data Science Tools| \n",
    "| ---------------- | \n",
    "| RStudio | \n",
    "| Apache Spark | \n",
    "| TensorFlow |"
   ]
  },
  {
   "cell_type": "markdown",
   "id": "7075035c",
   "metadata": {},
   "source": [
    "#Below are a few examples of evaluating arithmetic expressions in Python\n",
    "- addition (+) operator\n",
    "- subtraction (-) operator\n",
    "- multiplication (*) operator\n",
    "- Division (/) operator"
   ]
  },
  {
   "cell_type": "code",
   "execution_count": 1,
   "id": "38535ff0",
   "metadata": {},
   "outputs": [
    {
     "data": {
      "text/plain": [
       "17"
      ]
     },
     "execution_count": 1,
     "metadata": {},
     "output_type": "execute_result"
    }
   ],
   "source": [
    "# This a simple arithmetic expression to mutiply then add integers\n",
    "(3*4)+5"
   ]
  },
  {
   "cell_type": "code",
   "execution_count": 3,
   "id": "0cfaac52",
   "metadata": {},
   "outputs": [
    {
     "data": {
      "text/plain": [
       "3.3333333333333335"
      ]
     },
     "execution_count": 3,
     "metadata": {},
     "output_type": "execute_result"
    }
   ],
   "source": [
    "#This will convert 200 minutes to hours by diving by 60\n",
    "total_min = 200\n",
    "total_hr = total_min/60\n",
    "total_hr"
   ]
  },
  {
   "cell_type": "markdown",
   "id": "fdcb7e15",
   "metadata": {},
   "source": [
    "## Author \n",
    "#Eileen Numa"
   ]
  }
 ],
 "metadata": {
  "kernelspec": {
   "display_name": "Python 3 (ipykernel)",
   "language": "python",
   "name": "python3"
  },
  "language_info": {
   "codemirror_mode": {
    "name": "ipython",
    "version": 3
   },
   "file_extension": ".py",
   "mimetype": "text/x-python",
   "name": "python",
   "nbconvert_exporter": "python",
   "pygments_lexer": "ipython3",
   "version": "3.10.9"
  }
 },
 "nbformat": 4,
 "nbformat_minor": 5
}
