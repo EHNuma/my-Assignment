{
 "cells": [
  {
   "cell_type": "markdown",
   "id": "aa27c644",
   "metadata": {},
   "source": [
    "# Data Science Tools and Ecosystem"
   ]
  },
  {
   "cell_type": "markdown",
   "id": "8ba108c3",
   "metadata": {},
   "source": [
    "## In this notebook, Data Science Tools and Ecosystem are summarized."
   ]
  },
  {
   "cell_type": "markdown",
   "id": "d489fbfa",
   "metadata": {},
   "source": [
    "## Some of the popular languages that Data Scientists use are:\n",
    "1. Python\n",
    "2. R\n",
    "3. SQL"
   ]
  },
  {
   "cell_type": "markdown",
   "id": "50261563",
   "metadata": {},
   "source": [
    "**Objectives:**\n",
    "    - list tools used in data science\n",
    "    - popular language used in data science\n",
    "    - Introduction to python, R and GitHub"
   ]
  },
  {
   "cell_type": "markdown",
   "id": "53e3c26c",
   "metadata": {},
   "source": [
    "## Some of the commonly used libraries used by Data Scientists include:\n",
    "1. scikit-learn\n",
    "2. TensorFlow\n",
    "3. PyTorch"
   ]
  },
  {
   "cell_type": "markdown",
   "id": "1da5cd76",
   "metadata": {},
   "source": [
    "|Data Science Tools|\n",
    "|..................|\n",
    "|RStudio|\n",
    "|Apache Spark|\n",
    "|TensorFlow|"
   ]
  },
  {
   "cell_type": "markdown",
   "id": "aa66377c",
   "metadata": {},
   "source": [
    "### Below are a few examples of evaluating arithmetic expressions in Python\n",
    "- addition (+) operator\n",
    "- subtraction (-) operator\n",
    "- multiplication (*) operator\n",
    "- Division (/) operator"
   ]
  },
  {
   "cell_type": "code",
   "execution_count": 1,
   "id": "e1cc57c3",
   "metadata": {},
   "outputs": [
    {
     "data": {
      "text/plain": [
       "17"
      ]
     },
     "execution_count": 1,
     "metadata": {},
     "output_type": "execute_result"
    }
   ],
   "source": [
    "# This a simple arithmetic expression to mutiply then add integers\n",
    "(3*4)+5"
   ]
  },
  {
   "cell_type": "code",
   "execution_count": 21,
   "id": "473cc245",
   "metadata": {},
   "outputs": [],
   "source": [
    "# This will convert 200 minutes to hours by diving by 60\n",
    "def time_comversion(min):\n",
    "    min_value = hour_value * 60\n",
    "    hour_value = min_value // 60\n",
    "    min_value %= 60\n",
    "    print(\"converted minutes to hour:\",hour_value)\n",
    "    \n",
    "    min = 200\n",
    "    time_conversion(min)"
   ]
  },
  {
   "cell_type": "markdown",
   "id": "75fecdc2",
   "metadata": {},
   "source": [
    "## Author "
   ]
  },
  {
   "cell_type": "markdown",
   "id": "f3c79489",
   "metadata": {},
   "source": [
    "#Eileen Numa"
   ]
  }
 ],
 "metadata": {
  "kernelspec": {
   "display_name": "Python 3 (ipykernel)",
   "language": "python",
   "name": "python3"
  },
  "language_info": {
   "codemirror_mode": {
    "name": "ipython",
    "version": 3
   },
   "file_extension": ".py",
   "mimetype": "text/x-python",
   "name": "python",
   "nbconvert_exporter": "python",
   "pygments_lexer": "ipython3",
   "version": "3.10.9"
  }
 },
 "nbformat": 4,
 "nbformat_minor": 5
}
